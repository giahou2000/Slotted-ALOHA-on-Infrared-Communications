{
 "cells": [
  {
   "cell_type": "markdown",
   "metadata": {},
   "source": [
    "## Training a neural network with PSO"
   ]
  },
  {
   "cell_type": "code",
   "execution_count": 2,
   "metadata": {},
   "outputs": [],
   "source": [
    "# Import modules\n",
    "import numpy as np\n",
    "import matplotlib.pyplot as plt\n",
    "from sklearn.datasets import load_iris\n",
    "\n",
    "\n",
    "# Import PySwarms\n",
    "import pyswarms as ps\n",
    "\n",
    "# Some more magic so that the notebook will reload external python modules;\n",
    "# see http://stackoverflow.com/questions/1907993/autoreload-of-modules-in-ipython\n",
    "%load_ext autoreload\n",
    "%autoreload 2"
   ]
  },
  {
   "cell_type": "code",
   "execution_count": 3,
   "metadata": {},
   "outputs": [],
   "source": [
    "data = load_iris()"
   ]
  },
  {
   "cell_type": "code",
   "execution_count": 4,
   "metadata": {},
   "outputs": [],
   "source": [
    "# Store the features as X and the labels as y\n",
    "X = data.data\n",
    "y = data.target"
   ]
  },
  {
   "cell_type": "code",
   "execution_count": 5,
   "metadata": {},
   "outputs": [],
   "source": [
    "n_inputs = 4\n",
    "n_hidden = 20\n",
    "n_classes = 3\n",
    "\n",
    "num_samples = 150"
   ]
  },
  {
   "cell_type": "code",
   "execution_count": 6,
   "metadata": {},
   "outputs": [],
   "source": [
    "def logits_function(p):\n",
    "    \"\"\" Calculate roll-back the weights and biases\n",
    "\n",
    "    Inputs\n",
    "    ------\n",
    "    p: np.ndarray\n",
    "        The dimensions should include an unrolled version of the\n",
    "        weights and biases.\n",
    "\n",
    "    Returns\n",
    "    -------\n",
    "    numpy.ndarray of logits for layer 2\n",
    "\n",
    "    \"\"\"\n",
    "    # Roll-back the weights and biases\n",
    "    W1 = p[0:80].reshape((n_inputs,n_hidden))\n",
    "    b1 = p[80:100].reshape((n_hidden,))\n",
    "    W2 = p[100:160].reshape((n_hidden,n_classes))\n",
    "    b2 = p[160:163].reshape((n_classes,))\n",
    "\n",
    "    # Perform forward propagation\n",
    "    z1 = X.dot(W1) + b1  # Pre-activation in Layer 1\n",
    "    a1 = np.tanh(z1)     # Activation in Layer 1\n",
    "    logits = a1.dot(W2) + b2 # Pre-activation in Layer 2\n",
    "    return logits          # Logits for Layer 2"
   ]
  },
  {
   "cell_type": "code",
   "execution_count": 7,
   "metadata": {},
   "outputs": [],
   "source": [
    "# Forward propagation\n",
    "def forward_prop(params):\n",
    "    \"\"\"Forward propagation as objective function\n",
    "\n",
    "    This computes for the forward propagation of the neural network, as\n",
    "    well as the loss.\n",
    "\n",
    "    Inputs\n",
    "    ------\n",
    "    params: np.ndarray\n",
    "        The dimensions should include an unrolled version of the\n",
    "        weights and biases.\n",
    "\n",
    "    Returns\n",
    "    -------\n",
    "    float\n",
    "        The computed negative log-likelihood loss given the parameters\n",
    "    \"\"\"\n",
    "\n",
    "    logits = logits_function(params)\n",
    "\n",
    "    # Compute for the softmax of the logits\n",
    "    exp_scores = np.exp(logits)\n",
    "    probs = exp_scores / np.sum(exp_scores, axis=1, keepdims=True)\n",
    "\n",
    "    # Compute for the negative log likelihood\n",
    "\n",
    "    corect_logprobs = -np.log(probs[range(num_samples), y])\n",
    "    loss = np.sum(corect_logprobs) / num_samples\n",
    "\n",
    "    return loss"
   ]
  },
  {
   "cell_type": "code",
   "execution_count": 8,
   "metadata": {},
   "outputs": [],
   "source": [
    "def f(x):\n",
    "    \"\"\"Higher-level method to do forward_prop in the\n",
    "    whole swarm.\n",
    "\n",
    "    Inputs\n",
    "    ------\n",
    "    x: numpy.ndarray of shape (n_particles, dimensions)\n",
    "        The swarm that will perform the search\n",
    "\n",
    "    Returns\n",
    "    -------\n",
    "    numpy.ndarray of shape (n_particles, )\n",
    "        The computed loss for each particle\n",
    "    \"\"\"\n",
    "    n_particles = x.shape[0]\n",
    "    j = [forward_prop(x[i]) for i in range(n_particles)]\n",
    "    return np.array(j)"
   ]
  },
  {
   "cell_type": "code",
   "execution_count": 9,
   "metadata": {},
   "outputs": [
    {
     "name": "stderr",
     "output_type": "stream",
     "text": [
      "2024-09-12 10:31:07,992 - pyswarms.single.global_best - INFO - Optimize for 1000 iters with {'c1': 0.5, 'c2': 0.3, 'w': 0.9}\n",
      "pyswarms.single.global_best: 100%|██████████|1000/1000, best_cost=0.0295\n",
      "2024-09-12 10:31:28,647 - pyswarms.single.global_best - INFO - Optimization finished | best cost: 0.02954681342975925, best pos: [ 3.27357184e-01  1.08332674e-03  1.81678910e-02  8.25103618e-01\n",
      " -9.33073145e-01  5.42225049e-01  9.39830570e-02 -2.88061415e+00\n",
      " -1.36690627e+00 -9.60005625e-01  7.22770679e-01 -4.76620419e-01\n",
      "  9.00193680e-01  6.81862026e-02  8.36601761e-01  4.06368011e-01\n",
      "  3.71606435e-01  1.20569435e+00  4.12212604e+00  5.18986566e-01\n",
      "  5.88584807e-01 -5.16414432e+00  7.26243624e-01  1.70649712e+00\n",
      "  5.86716439e-01  7.40616701e-02 -1.15590054e+00 -3.44399757e-01\n",
      "  8.38747308e-01  1.01894544e+00 -3.06795063e-01  3.42097228e-01\n",
      "  1.34279778e-01  8.45106645e-01 -5.73937175e-01 -2.28537350e-01\n",
      "  3.58674927e-02 -5.99827056e-01  1.83647510e-01  1.29139123e+00\n",
      " -1.00612133e+00 -7.89172241e-01 -1.20166852e+00  5.95848043e-01\n",
      "  2.25437123e-01 -4.24397810e-01 -9.78901304e-01  1.49408419e+00\n",
      "  1.25901212e+00 -8.70435192e-01  6.16076486e-01  4.92776929e-01\n",
      " -2.34283781e-01 -8.62798387e-02 -1.07200271e+00 -5.68946083e-01\n",
      "  9.25408960e-01  3.04039142e-01  2.97155210e+00  1.17040493e+00\n",
      " -5.83820672e-01  8.89302344e-01 -2.76252762e-02  2.83165393e-01\n",
      " -9.43780284e-03  1.08806889e-01 -4.33682309e-01  3.08226985e-01\n",
      " -2.29063633e-03  2.18102675e+00 -1.54217829e+00  1.57534510e+00\n",
      "  5.90560252e-02  3.59934019e-01 -2.90148308e-01  8.61504879e+00\n",
      " -7.31343299e-02  5.13315046e-01 -7.63342891e-01  4.98650467e-01\n",
      "  1.28298353e+00 -2.48701244e-01  5.62873677e-01 -3.16877654e-01\n",
      "  3.74529606e+00 -1.15936767e-01 -3.96756677e-01  1.77708324e-02\n",
      "  2.52868419e-01  3.64160219e-01  1.14767912e+00 -2.98766868e-01\n",
      " -4.37795376e-01 -8.68357710e-01 -7.37028518e-02 -1.53114922e+01\n",
      "  2.27284794e-01  8.43349654e-01  1.74155336e+00 -4.81688161e-01\n",
      "  1.53495238e+00  4.21576825e+00 -2.77380332e+01 -7.51732135e-02\n",
      " -3.27398815e-01 -3.88691395e-01  2.40829937e+00 -1.19498384e+01\n",
      "  7.58710761e-03 -8.92480783e-01 -2.00193099e-01 -6.89808555e-02\n",
      "  5.56737194e-01  8.27410205e-01 -7.74618101e-01  8.40097806e-01\n",
      "  2.07390262e-01  2.76653464e-01  1.14639270e+00  6.92952112e-01\n",
      "  1.56854519e+00  1.33441990e+00  9.73957977e-01 -1.50272053e-01\n",
      " -3.14038443e-01  1.89429498e-01  5.07975055e-01 -4.48978431e-01\n",
      "  6.46625311e-01  2.28893542e-01 -5.47507212e-01  4.23230350e-01\n",
      " -1.52342392e+00 -2.41691562e-01 -2.18396744e+00  7.95499096e-01\n",
      "  1.47550258e-01  1.13756138e+00 -4.59173053e-01 -5.28324852e-01\n",
      " -3.66720224e-01  1.44368930e+00  1.50063999e+00 -1.58963822e+00\n",
      " -2.28539043e-01 -1.66017153e+00  1.72449971e-01  1.44123594e+01\n",
      "  1.24214760e-01 -2.07772971e-01 -2.02665129e+00  2.55136105e-01\n",
      " -1.62219895e+00  1.66999789e+00  6.68674623e-01  1.27867743e+00\n",
      "  5.94247562e-01  8.12757213e-01  7.79887353e-01  1.11897183e+00\n",
      "  5.87032229e-01  2.57676348e-01 -2.27385543e-01]\n"
     ]
    },
    {
     "name": "stdout",
     "output_type": "stream",
     "text": [
      "CPU times: total: 8.19 s\n",
      "Wall time: 20.7 s\n"
     ]
    }
   ],
   "source": [
    "%%time\n",
    "# Initialize swarm\n",
    "options = {'c1': 0.5, 'c2': 0.3, 'w':0.9}\n",
    "\n",
    "# Call instance of PSO\n",
    "dimensions = (n_inputs * n_hidden) + (n_hidden * n_classes) + n_hidden + n_classes\n",
    "optimizer = ps.single.GlobalBestPSO(n_particles=100, dimensions=dimensions, options=options)\n",
    "\n",
    "# Perform optimization\n",
    "cost, pos = optimizer.optimize(f, iters=1000)"
   ]
  },
  {
   "cell_type": "code",
   "execution_count": 10,
   "metadata": {},
   "outputs": [],
   "source": [
    "def predict(pos):\n",
    "    \"\"\"\n",
    "    Use the trained weights to perform class predictions.\n",
    "\n",
    "    Inputs\n",
    "    ------\n",
    "    pos: numpy.ndarray\n",
    "        Position matrix found by the swarm. Will be rolled\n",
    "        into weights and biases.\n",
    "    \"\"\"\n",
    "    logits = logits_function(pos)\n",
    "    y_pred = np.argmax(logits, axis=1)\n",
    "    return y_pred"
   ]
  },
  {
   "cell_type": "code",
   "execution_count": 11,
   "metadata": {},
   "outputs": [
    {
     "data": {
      "text/plain": [
       "0.9866666666666667"
      ]
     },
     "execution_count": 11,
     "metadata": {},
     "output_type": "execute_result"
    }
   ],
   "source": [
    "(predict(pos) == y).mean()"
   ]
  }
 ],
 "metadata": {
  "kernelspec": {
   "display_name": "Python 3",
   "language": "python",
   "name": "python3"
  },
  "language_info": {
   "codemirror_mode": {
    "name": "ipython",
    "version": 3
   },
   "file_extension": ".py",
   "mimetype": "text/x-python",
   "name": "python",
   "nbconvert_exporter": "python",
   "pygments_lexer": "ipython3",
   "version": "3.12.0"
  }
 },
 "nbformat": 4,
 "nbformat_minor": 2
}
